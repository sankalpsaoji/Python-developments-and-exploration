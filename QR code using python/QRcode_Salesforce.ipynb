{
 "cells": [
  {
   "cell_type": "code",
   "execution_count": 1,
   "metadata": {},
   "outputs": [],
   "source": [
    "#import library\n",
    "\n",
    "import pyqrcode\n",
    "import png\n",
    "from pyqrcode import QRCode"
   ]
  },
  {
   "cell_type": "code",
   "execution_count": 2,
   "metadata": {},
   "outputs": [],
   "source": [
    "# string to represent QR code\n",
    "s = \"https://trailblazer.me/id/ssaoji3\"\n",
    "\n",
    "# Generate QR code\n",
    "my_Salesforce = pyqrcode.create(s)\n",
    "\n",
    "#create and save file as svg file and png file\n",
    "my_Salesforce.svg(\"Salesforce.svg\", scale = 8)\n",
    "\n",
    "my_Salesforce.png(\"Salesforce.png\", scale = 8)"
   ]
  }
 ],
 "metadata": {
  "kernelspec": {
   "display_name": "Python 3",
   "language": "python",
   "name": "python3"
  },
  "language_info": {
   "codemirror_mode": {
    "name": "ipython",
    "version": 3
   },
   "file_extension": ".py",
   "mimetype": "text/x-python",
   "name": "python",
   "nbconvert_exporter": "python",
   "pygments_lexer": "ipython3",
   "version": "3.6.8"
  }
 },
 "nbformat": 4,
 "nbformat_minor": 2
}
