{
 "cells": [
  {
   "cell_type": "code",
   "execution_count": 1,
   "metadata": {},
   "outputs": [],
   "source": [
    "#import library\n",
    "\n",
    "import pyqrcode\n",
    "import png\n",
    "from pyqrcode import QRCode"
   ]
  },
  {
   "cell_type": "code",
   "execution_count": 2,
   "metadata": {},
   "outputs": [],
   "source": [
    "# string to represent QR code\n",
    "s = \"https://sankalpsaoji108252094.wordpress.com/\"\n",
    "\n",
    "# Generate QR code\n",
    "my_webpage = pyqrcode.create(s)\n",
    "\n",
    "#create and save file as svg file and png file\n",
    "my_webpage.svg(\"my_webpage.svg\", scale = 8)\n",
    "\n",
    "my_webpage.png(\"my_webpage.png\", scale = 8)"
   ]
  }
 ],
 "metadata": {
  "kernelspec": {
   "display_name": "Python 3",
   "language": "python",
   "name": "python3"
  },
  "language_info": {
   "codemirror_mode": {
    "name": "ipython",
    "version": 3
   },
   "file_extension": ".py",
   "mimetype": "text/x-python",
   "name": "python",
   "nbconvert_exporter": "python",
   "pygments_lexer": "ipython3",
   "version": "3.6.8"
  }
 },
 "nbformat": 4,
 "nbformat_minor": 2
}
