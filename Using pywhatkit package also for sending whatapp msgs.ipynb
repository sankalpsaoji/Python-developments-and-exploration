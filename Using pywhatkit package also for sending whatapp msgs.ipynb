{
 "cells": [
  {
   "cell_type": "code",
   "execution_count": null,
   "metadata": {},
   "outputs": [],
   "source": [
    "# Install a pip package in the current Jupyter kernel\n",
    "import sys\n",
    "!{sys.executable} -m pip install pyWhatkit"
   ]
  },
  {
   "cell_type": "code",
   "execution_count": 1,
   "metadata": {},
   "outputs": [],
   "source": [
    "#import library\n",
    "import pywhatkit as kit"
   ]
  },
  {
   "cell_type": "code",
   "execution_count": 3,
   "metadata": {},
   "outputs": [
    {
     "name": "stdout",
     "output_type": "stream",
     "text": [
      "In 42 seconds web.whatsapp.com will open and after 60 seconds message will be delivered\n"
     ]
    }
   ],
   "source": [
    "kit.sendwhatmsg(\"+91 XXXXXXXXXXX\",\"hello, how are you this is a bot generated msg from XXXXX at XXXX \",15,31)\n",
    "############## (number of the reciver, text to send, time when to send)\n",
    "# this will open whatapp web 60 seconds before the given time and then send it on the exact time\n",
    "''' NOTE: \n",
    "To send a whatapp msg using the above package u need your whatapp web\n",
    "handy and ready in your machine. so that i can automatically redirect to whatapp web\n",
    "and send the msg'''"
   ]
  },
  {
   "cell_type": "code",
   "execution_count": null,
   "metadata": {},
   "outputs": [],
   "source": [
    "# if you want to send message with most of the process as hidden \n",
    "\n",
    "kit.sendwhatmsg_with_selenium(\"+91 XXXXXXXXXXX\",\"hello, how are you this is a bot generated msg from XXXXX at XXXX \",15,31)\n",
    "############## (number of the reciver, text to send, time when to send)\n",
    "#Will send message with most of the processes hidden\n"
   ]
  },
  {
   "cell_type": "code",
   "execution_count": null,
   "metadata": {},
   "outputs": [],
   "source": [
    "# if you want to send file with most of the process as hidden \n",
    "\n",
    "kit.send_file(\"+91 XXXXXXXXXXX\",\"Path to file\",15,31)\n",
    "############## (number of the reciver, path to file, time when to send)\n",
    "#Will send file with most of the processes hidden\n"
   ]
  },
  {
   "cell_type": "code",
   "execution_count": null,
   "metadata": {},
   "outputs": [],
   "source": [
    "# to find the information of all the messages sent using this library\n",
    "kit.showHistory()\n"
   ]
  },
  {
   "cell_type": "code",
   "execution_count": 2,
   "metadata": {},
   "outputs": [
    {
     "name": "stdout",
     "output_type": "stream",
     "text": [
      "Data science is an inter-disciplinary field that uses scientific methods, processes, algorithms and systems to extract knowledge and insights from many structural and unstructured data. Data science is related to data mining, deep learning and big data.\n",
      "Data science is a \"concept to unify statistics, data analysis, machine learning, domain knowledge and their related methods\" in order to \"understand and analyze actual phenomena\" with data.\n"
     ]
    }
   ],
   "source": [
    "# To find some information about the given topic\n",
    "\n",
    "kit.info(\" Data science \",lines=3)\n",
    "\n",
    "#Will give information about the topic"
   ]
  },
  {
   "cell_type": "code",
   "execution_count": 12,
   "metadata": {},
   "outputs": [],
   "source": [
    "# To play youtube song with the given keyword on it\n",
    "\n",
    "kit.playonyt(\" name of love \")\n",
    "\n",
    "#Will play the first YouTube video having \" name of love \" in it"
   ]
  },
  {
   "cell_type": "code",
   "execution_count": 13,
   "metadata": {},
   "outputs": [],
   "source": [
    "# to perform a google search \n",
    "\n",
    "kit.search(\" Data science \")\n",
    "\n",
    "#Will perform a Google search on the given keyword"
   ]
  },
  {
   "cell_type": "code",
   "execution_count": 18,
   "metadata": {},
   "outputs": [
    {
     "name": "stdout",
     "output_type": "stream",
     "text": [
      "How to use the new functions:\n",
      "NOTE : To use those functions, you must have Google Chrome installed and updated\n",
      "1. Download and extract the current stable release of chromedriver from https://chromedriver.chromium.org/.\n",
      "2. Open the downloaded file and search for an application named chromedrive, copy its path,\n",
      "   for windows, it should look like this - C:/Users/.../chromedriver.exe.\n",
      "3. Call pywhatkit.add_driver_path(path) and pass the copied path as argument, if path is valid, a black window along with chrome will open and close\n",
      "4. Now call pywhatkit.load_QRcode() function and scan the QR code.\n",
      "5. You are all set. Now call the desired function. All the information have been saved and you don't to do the same thing again.\n"
     ]
    }
   ],
   "source": [
    "# for get more information \n",
    "kit.manual()"
   ]
  }
 ],
 "metadata": {
  "kernelspec": {
   "display_name": "Python 3",
   "language": "python",
   "name": "python3"
  },
  "language_info": {
   "codemirror_mode": {
    "name": "ipython",
    "version": 3
   },
   "file_extension": ".py",
   "mimetype": "text/x-python",
   "name": "python",
   "nbconvert_exporter": "python",
   "pygments_lexer": "ipython3",
   "version": "3.6.8"
  }
 },
 "nbformat": 4,
 "nbformat_minor": 2
}
