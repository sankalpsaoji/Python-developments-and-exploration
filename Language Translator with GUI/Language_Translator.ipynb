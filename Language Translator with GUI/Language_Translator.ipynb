{
 "cells": [
  {
   "cell_type": "code",
   "execution_count": 197,
   "metadata": {},
   "outputs": [],
   "source": [
    "#import libraries\n",
    "from tkinter import *\n",
    "from translate import Translator"
   ]
  },
  {
   "cell_type": "code",
   "execution_count": 198,
   "metadata": {},
   "outputs": [],
   "source": [
    "#translator function\n",
    "def translate():\n",
    "    translator = Translator(from_lang=lan1.get(), to_lang=lan2.get())\n",
    "    translation = translator.translate(var.get())\n",
    "    var1.set(translation)"
   ]
  },
  {
   "cell_type": "code",
   "execution_count": 199,
   "metadata": {},
   "outputs": [
    {
     "data": {
      "text/plain": [
       "''"
      ]
     },
     "execution_count": 199,
     "metadata": {},
     "output_type": "execute_result"
    }
   ],
   "source": [
    "#tkinter root window with title\n",
    "root = Tk()\n",
    "root.title(\"Translator\")"
   ]
  },
  {
   "cell_type": "code",
   "execution_count": 200,
   "metadata": {},
   "outputs": [],
   "source": [
    "#creating a frame and grid to hold the content\n",
    "mainframe = Frame(root)\n",
    "mainframe.grid(column=0, row=0, sticky=(N,W,E,S))\n",
    "mainframe.columnconfigure(0, weight = 1)\n",
    "mainframe.rowconfigure(0, weight = 1)\n",
    "mainframe.grid(pady = 100,padx = 100)"
   ]
  },
  {
   "cell_type": "code",
   "execution_count": 201,
   "metadata": {},
   "outputs": [],
   "source": [
    "#variable for drop down list\n",
    "lan1 = StringVar(root)\n",
    "lan2 = StringVar(root)"
   ]
  },
  {
   "cell_type": "code",
   "execution_count": 202,
   "metadata": {},
   "outputs": [],
   "source": [
    "#chocices to show dropdown\n",
    "choices = {'English', 'Hindi', 'Gujrati', 'Spanish', 'German'}\n",
    "lan1.set('English')\n",
    "lan2.set('Hindi')"
   ]
  },
  {
   "cell_type": "code",
   "execution_count": 203,
   "metadata": {},
   "outputs": [],
   "source": [
    "#creating a dropdown and arraging the grid for language 1\n",
    "lan1menu = OptionMenu( mainframe, lan1, *choices)\n",
    "Label(mainframe, text=\"Select a language from\").grid(row=1,column=1)\n",
    "lan1menu.grid(row=2, column=1)"
   ]
  },
  {
   "cell_type": "code",
   "execution_count": 204,
   "metadata": {},
   "outputs": [],
   "source": [
    "#creating a dropdown and arraging the grid for language 2\n",
    "lan2menu = OptionMenu( mainframe, lan2, *choices)\n",
    "Label(mainframe, text=\"Select a language to\").grid(row=1,column=4)\n",
    "lan2menu.grid(row=2, column=4)"
   ]
  },
  {
   "cell_type": "code",
   "execution_count": 205,
   "metadata": {},
   "outputs": [],
   "source": [
    "#textbox to take user input\n",
    "Label(mainframe, text = \"Enter text\").grid(row=0, column=2)\n",
    "var = StringVar()\n",
    "textbox = Entry(mainframe, textvariable=var).grid(row=3, column=1)"
   ]
  },
  {
   "cell_type": "code",
   "execution_count": 206,
   "metadata": {},
   "outputs": [],
   "source": [
    "#textbox to show output\n",
    "Label(mainframe, text = \"Output\").grid(row=2, column=2)\n",
    "var1 = StringVar()\n",
    "textbox = Entry(mainframe, textvariable=var1).grid(row=3, column=4)"
   ]
  },
  {
   "cell_type": "code",
   "execution_count": 207,
   "metadata": {},
   "outputs": [],
   "source": [
    "#creating a translator button\n",
    "b= Button(mainframe, text=\"Translate\",command=translate).grid(row=4, column=2)\n",
    "root.mainloop()"
   ]
  },
  {
   "cell_type": "code",
   "execution_count": null,
   "metadata": {},
   "outputs": [],
   "source": []
  }
 ],
 "metadata": {
  "kernelspec": {
   "display_name": "Python 3",
   "language": "python",
   "name": "python3"
  },
  "language_info": {
   "codemirror_mode": {
    "name": "ipython",
    "version": 3
   },
   "file_extension": ".py",
   "mimetype": "text/x-python",
   "name": "python",
   "nbconvert_exporter": "python",
   "pygments_lexer": "ipython3",
   "version": "3.6.8"
  }
 },
 "nbformat": 4,
 "nbformat_minor": 2
}
